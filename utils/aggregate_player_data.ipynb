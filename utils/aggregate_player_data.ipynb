{
 "cells": [
  {
   "cell_type": "code",
   "execution_count": null,
   "metadata": {},
   "outputs": [],
   "source": [
    "import pandas as pd\n",
    "\n",
    "# Load the data into a pandas DataFrame\n",
    "data = pd.read_csv(r'..\\data\\players_stats_historical.csv')\n",
    "\n",
    "# Fill missing values with 0\n",
    "data = data.fillna(0)\n",
    "\n",
    "# Aggregate the data by summing the numeric columns for each player\n",
    "aggregated_data = data.groupby('name').sum(numeric_only=True).reset_index()\n",
    "\n",
    "# For positions, we'll take the unique positions each player has been listed as\n",
    "positions = data.groupby('name')['pos'].apply(lambda x: ','.join(set(x))).reset_index()\n",
    "\n",
    "# Merge the aggregated numeric data with the unique positions\n",
    "aggregated_data = pd.merge(aggregated_data, positions, on='name')\n",
    "\n",
    "# Reorder columns to place 'pos' after 'name'\n",
    "cols = ['name', 'pos'] + [col for col in aggregated_data.columns if col not in ['name', 'pos']]\n",
    "aggregated_data = aggregated_data[cols]\n",
    "\n",
    "# Order by minutes\n",
    "aggregated_data = aggregated_data.sort_values(by='minutes', ascending=False)\n",
    "\n",
    "# Save the aggregated data to a new CSV file\n",
    "aggregated_data.to_csv(r'..\\data\\aggregated_player_stats_historical.csv', index=False)\n"
   ]
  }
 ],
 "metadata": {
  "language_info": {
   "name": "python"
  }
 },
 "nbformat": 4,
 "nbformat_minor": 2
}
